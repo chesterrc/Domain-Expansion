{
 "cells": [
  {
   "cell_type": "code",
   "execution_count": null,
   "id": "adee8f8d-2320-4f3f-9d45-9b3da97fa6d7",
   "metadata": {},
   "outputs": [],
   "source": [
    "pip install tensorflow tensorflow-gpu opencv-python matplotlib"
   ]
  }
 ],
 "metadata": {
  "kernelspec": {
   "display_name": "Python 3 (ipykernel)",
   "language": "python",
   "name": "python3"
  },
  "language_info": {
   "codemirror_mode": {
    "name": "ipython",
    "version": 3
   },
   "file_extension": ".py",
   "mimetype": "text/x-python",
   "name": "python",
   "nbconvert_exporter": "python",
   "pygments_lexer": "ipython3",
   "version": "3.11.2"
  }
 },
 "nbformat": 4,
 "nbformat_minor": 5
}
